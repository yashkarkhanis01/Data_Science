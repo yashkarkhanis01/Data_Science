{
  "nbformat": 4,
  "nbformat_minor": 0,
  "metadata": {
    "colab": {
      "provenance": [],
      "authorship_tag": "ABX9TyNPtqO7cUeAW8P3FjvmzbaP",
      "include_colab_link": true
    },
    "kernelspec": {
      "name": "python3",
      "display_name": "Python 3"
    },
    "language_info": {
      "name": "python"
    }
  },
  "cells": [
    {
      "cell_type": "markdown",
      "metadata": {
        "id": "view-in-github",
        "colab_type": "text"
      },
      "source": [
        "<a href=\"https://colab.research.google.com/github/yashkarkhanis01/Data_Science/blob/main/JSON_to_HORUS.ipynb\" target=\"_parent\"><img src=\"https://colab.research.google.com/assets/colab-badge.svg\" alt=\"Open In Colab\"/></a>"
      ]
    },
    {
      "cell_type": "code",
      "execution_count": null,
      "metadata": {
        "colab": {
          "base_uri": "https://localhost:8080/"
        },
        "id": "zWyFnJ2egZzr",
        "outputId": "6b68aa02-a4f8-4b40-cb34-2a1b93f30756"
      },
      "outputs": [
        {
          "output_type": "stream",
          "name": "stdout",
          "text": [
            "Input Data Values ===================================\n",
            "                       Country ISO-2-CODE ISO-3-Code  ISO-M49\n",
            "0                  Afghanistan         AF        AFG        4\n",
            "1                Aland Islands         AX        ALA      248\n",
            "2                      Albania         AL        ALB        8\n",
            "3                      Algeria         DZ        DZA       12\n",
            "4               American Samoa         AS        ASM       16\n",
            "..                         ...        ...        ...      ...\n",
            "242  Wallis and Futuna Islands         WF        WLF      876\n",
            "243             Western Sahara         EH        ESH      732\n",
            "244                      Yemen         YE        YEM      887\n",
            "245                     Zambia         ZM        ZMB      894\n",
            "246                   Zimbabwe         ZW        ZWE      716\n",
            "\n",
            "[247 rows x 4 columns]\n",
            "=====================================================\n",
            "Process Data Values =================================\n",
            "                             CountryName\n",
            "CountryNumber                           \n",
            "716                             Zimbabwe\n",
            "894                               Zambia\n",
            "887                                Yemen\n",
            "732                       Western Sahara\n",
            "876            Wallis and Futuna Islands\n",
            "...                                  ...\n",
            "16                        American Samoa\n",
            "12                               Algeria\n",
            "8                                Albania\n",
            "248                        Aland Islands\n",
            "4                            Afghanistan\n",
            "\n",
            "[247 rows x 1 columns]\n",
            "=====================================================\n",
            "JSON to HORUS - Done\n"
          ]
        }
      ],
      "source": [
        "import pandas as pd\n",
        "sInputFileName='Country_Code.json'\n",
        "InputData=pd.read_json(sInputFileName, orient='index', encoding=\"latin-1\")\n",
        "print('Input Data Values ===================================')\n",
        "print(InputData)\n",
        "print('=====================================================')\n",
        "ProcessData=InputData\n",
        "ProcessData.drop('ISO-2-CODE', axis=1,inplace=True)\n",
        "ProcessData.drop('ISO-3-Code', axis=1,inplace=True)\n",
        "ProcessData.rename(columns={'Country': 'CountryName'}, inplace=True)\n",
        "ProcessData.rename(columns={'ISO-M49': 'CountryNumber'}, inplace=True)\n",
        "ProcessData.set_index('CountryNumber', inplace=True)\n",
        "ProcessData.sort_values('CountryName', axis=0, ascending=False, inplace=True)\n",
        "print('Process Data Values =================================')\n",
        "print(ProcessData)\n",
        "print('=====================================================')\n",
        "OutputData=ProcessData\n",
        "sOutputFileName='HORUS-JSON-Country.csv'\n",
        "OutputData.to_csv(sOutputFileName, index = False)\n",
        "print('JSON to HORUS - Done')\n"
      ]
    }
  ]
}