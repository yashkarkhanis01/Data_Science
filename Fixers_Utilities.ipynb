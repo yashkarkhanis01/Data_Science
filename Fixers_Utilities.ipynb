{
  "nbformat": 4,
  "nbformat_minor": 0,
  "metadata": {
    "colab": {
      "provenance": [],
      "authorship_tag": "ABX9TyOeg03vIXcv5v6x+hPzFouQ",
      "include_colab_link": true
    },
    "kernelspec": {
      "name": "python3",
      "display_name": "Python 3"
    },
    "language_info": {
      "name": "python"
    }
  },
  "cells": [
    {
      "cell_type": "markdown",
      "metadata": {
        "id": "view-in-github",
        "colab_type": "text"
      },
      "source": [
        "<a href=\"https://colab.research.google.com/github/yashkarkhanis01/Data_Science/blob/main/Fixers_Utilities.ipynb\" target=\"_parent\"><img src=\"https://colab.research.google.com/assets/colab-badge.svg\" alt=\"Open In Colab\"/></a>"
      ]
    },
    {
      "cell_type": "code",
      "execution_count": null,
      "metadata": {
        "colab": {
          "base_uri": "https://localhost:8080/"
        },
        "id": "YgIVcSlf-3n9",
        "outputId": "3a4f6bce-4b95-41b4-fb95-562275a99392"
      },
      "outputs": [
        {
          "output_type": "stream",
          "name": "stdout",
          "text": [
            "#1 Removing leading or lagging spaces from a data entry\n",
            ">  Data Science with too many spaces is bad!!!  <\n",
            "> Data Science with too many spaces is bad!!! <\n",
            "#2 Removing nonprintable characters from a data entry\n",
            "Bad Data :  Data\u0000Science with\u0002 funny characters is \u0010bad!!!\n",
            "Clean Data :  DataScience with funny characters is bad!!!\n",
            "# 3 Reformatting data entry to match specific formatting criteria.\n",
            "Bad Data :  2019-10-31\n",
            "Good Data :  31 October 2019\n"
          ]
        }
      ],
      "source": [
        "import string\n",
        "import datetime as dt\n",
        "# 1 Removing leading or lagging spaces from a data entry\n",
        "print('#1 Removing leading or lagging spaces from a data entry');\n",
        "baddata = \" Data Science with too many spaces is bad!!! \"\n",
        "print('>',baddata,'<')\n",
        "cleandata=baddata.strip()\n",
        "print('>',cleandata,'<')\n",
        "\n",
        "# 2 Removing nonprintable characters from a data entry\n",
        "print('#2 Removing nonprintable characters from a data entry')\n",
        "printable = set(string.printable)\n",
        "baddata = \"Data\\x00Science with\\x02 funny characters is \\x10bad!!!\"\n",
        "cleandata=''.join(filter(lambda x: x in string.printable,baddata))\n",
        "print('Bad Data : ',baddata);\n",
        "print('Clean Data : ',cleandata)\n",
        "\n",
        "# 3 Reformatting data entry to match specific formatting criteria.\n",
        "# Convert YYYY/MM/DD to DD Month YYYY\n",
        "print('# 3 Reformatting data entry to match specific formatting criteria.')\n",
        "baddate = dt.date(2019, 10, 31)\n",
        "baddata=format(baddate,'%Y-%m-%d')\n",
        "gooddate = dt.datetime.strptime(baddata,'%Y-%m-%d')\n",
        "gooddata=format(gooddate,'%d %B %Y')\n",
        "print('Bad Data : ',baddata)\n",
        "print('Good Data : ',gooddata)\n"
      ]
    }
  ]
}