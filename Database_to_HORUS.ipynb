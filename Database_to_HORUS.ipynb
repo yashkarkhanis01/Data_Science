{
  "nbformat": 4,
  "nbformat_minor": 0,
  "metadata": {
    "colab": {
      "provenance": [],
      "authorship_tag": "ABX9TyNpoktv1yG+anMikYsE5nWX",
      "include_colab_link": true
    },
    "kernelspec": {
      "name": "python3",
      "display_name": "Python 3"
    },
    "language_info": {
      "name": "python"
    }
  },
  "cells": [
    {
      "cell_type": "markdown",
      "metadata": {
        "id": "view-in-github",
        "colab_type": "text"
      },
      "source": [
        "<a href=\"https://colab.research.google.com/github/yashkarkhanis01/Data_Science/blob/main/Database_to_HORUS.ipynb\" target=\"_parent\"><img src=\"https://colab.research.google.com/assets/colab-badge.svg\" alt=\"Open In Colab\"/></a>"
      ]
    },
    {
      "cell_type": "code",
      "execution_count": null,
      "metadata": {
        "id": "M1vGbxZm_kp-",
        "colab": {
          "base_uri": "https://localhost:8080/"
        },
        "outputId": "27691597-7471-4409-bfff-12556fc331e0"
      },
      "outputs": [
        {
          "output_type": "stream",
          "name": "stdout",
          "text": [
            "Input Data Values ===================================\n",
            "     index                    Country ISO-2-CODE ISO-3-Code  ISO-M49\n",
            "0        0                Afghanistan         AF        AFG        4\n",
            "1        1              Aland Islands         AX        ALA      248\n",
            "2        2                    Albania         AL        ALB        8\n",
            "3        3                    Algeria         DZ        DZA       12\n",
            "4        4             American Samoa         AS        ASM       16\n",
            "..     ...                        ...        ...        ...      ...\n",
            "242    242  Wallis and Futuna Islands         WF        WLF      876\n",
            "243    243             Western Sahara         EH        ESH      732\n",
            "244    244                      Yemen         YE        YEM      887\n",
            "245    245                     Zambia         ZM        ZMB      894\n",
            "246    246                   Zimbabwe         ZW        ZWE      716\n",
            "\n",
            "[247 rows x 5 columns]\n",
            "=====================================================\n",
            "Process Data Values =================================\n",
            "               index                CountryName\n",
            "CountryNumber                                  \n",
            "716              246                   Zimbabwe\n",
            "894              245                     Zambia\n",
            "887              244                      Yemen\n",
            "732              243             Western Sahara\n",
            "876              242  Wallis and Futuna Islands\n",
            "...              ...                        ...\n",
            "16                 4             American Samoa\n",
            "12                 3                    Algeria\n",
            "8                  2                    Albania\n",
            "248                1              Aland Islands\n",
            "4                  0                Afghanistan\n",
            "\n",
            "[247 rows x 2 columns]\n",
            "=====================================================\n",
            "Database to HORUS - Done\n"
          ]
        }
      ],
      "source": [
        "# Utility Start Database to HORUS ================================= # Standard Tools\n",
        "#=============================================================\n",
        "import pandas as pd\n",
        "import sqlite3 as sq\n",
        "# Input Agreement ============================================\n",
        "sInputFileName='utility.db'\n",
        "sInputTable='Country_Code'\n",
        "conn = sq.connect(sInputFileName)\n",
        "sSQL='select * FROM ' + sInputTable + ';'\n",
        "InputData=pd.read_sql_query(sSQL, conn)\n",
        "print('Input Data Values ===================================')\n",
        "print(InputData)\n",
        "print('=====================================================') # Processing Rules ===========================================\n",
        "ProcessData=InputData\n",
        "# Remove columns ISO-2-Code and ISO-3-CODE\n",
        "ProcessData.drop('ISO-2-CODE', axis=1,inplace=True)\n",
        "ProcessData.drop('ISO-3-Code', axis=1,inplace=True) # Rename Country and ISO-M49\n",
        "ProcessData.rename(columns={'Country': 'CountryName'}, inplace=True)\n",
        "ProcessData.rename(columns={'ISO-M49': 'CountryNumber'},   inplace=True) # Set new Index\n",
        "ProcessData.set_index('CountryNumber',   inplace=True) # Sort data by CurrencyNumber\n",
        "ProcessData.sort_values('CountryName', axis=0, ascending=False, inplace=True)\n",
        "print('Process Data Values =================================')\n",
        "print(ProcessData)\n",
        "print('=====================================================') # Output Agreement ===========================================\n",
        "OutputData=ProcessData\n",
        "sOutputFileName='HORUS-CSV-Country.csv'\n",
        "OutputData.to_csv(sOutputFileName, index = False)\n",
        "print('Database to HORUS - Done')\n",
        "# Utility done ===============================================\n"
      ]
    }
  ]
}