{
  "nbformat": 4,
  "nbformat_minor": 0,
  "metadata": {
    "colab": {
      "provenance": [],
      "authorship_tag": "ABX9TyMvmTlm39gMVGi7rv7Rt/pH",
      "include_colab_link": true
    },
    "kernelspec": {
      "name": "python3",
      "display_name": "Python 3"
    },
    "language_info": {
      "name": "python"
    }
  },
  "cells": [
    {
      "cell_type": "markdown",
      "metadata": {
        "id": "view-in-github",
        "colab_type": "text"
      },
      "source": [
        "<a href=\"https://colab.research.google.com/github/yashkarkhanis01/MScIT_Part-1/blob/main/CSV_to_HORUS.ipynb\" target=\"_parent\"><img src=\"https://colab.research.google.com/assets/colab-badge.svg\" alt=\"Open In Colab\"/></a>"
      ]
    },
    {
      "cell_type": "code",
      "execution_count": null,
      "metadata": {
        "id": "myuA3HjknFlj",
        "colab": {
          "base_uri": "https://localhost:8080/"
        },
        "outputId": "9a8090b9-a986-43d5-e3b1-01ab54a33791"
      },
      "outputs": [
        {
          "output_type": "stream",
          "name": "stdout",
          "text": [
            "Input Data Values ===================================\n",
            "               Country ISO-2-CODE ISO-3-Code  ISO-M49\n",
            "0          Afghanistan         AF        AFG        4\n",
            "1        Aland Islands         AX        ALA      248\n",
            "2              Albania         AL        ALB        8\n",
            "3              Algeria         DZ        DZA       12\n",
            "4       American Samoa         AS        ASM       16\n",
            "5              Andorra         AD        AND       20\n",
            "6               Angola         AO        AGO       24\n",
            "7             Anguilla         AI        AIA      660\n",
            "8           Antarctica         AQ        ATA       10\n",
            "9  Antigua and Barbuda         AG        ATG       28\n",
            "=====================================================\n",
            "Process Data Values =================================\n",
            "                       CountryName\n",
            "CountryNumber                     \n",
            "28             Antigua and Barbuda\n",
            "10                      Antarctica\n",
            "660                       Anguilla\n",
            "24                          Angola\n",
            "20                         Andorra\n",
            "16                  American Samoa\n",
            "12                         Algeria\n",
            "8                          Albania\n",
            "248                  Aland Islands\n",
            "4                      Afghanistan\n",
            "=====================================================\n",
            "CSV to HORUS - Done\n"
          ]
        }
      ],
      "source": [
        "import pandas as pd\n",
        "# Input Agreement ============================================\n",
        "sInputFileName='Country_Code.csv'\n",
        "InputData=pd.read_csv(sInputFileName,encoding=\"latin-1\")\n",
        "print('Input Data Values ===================================')\n",
        "print(InputData)\n",
        "print('=====================================================') # Processing Rules ===========================================\n",
        "ProcessData=InputData\n",
        "ProcessData.drop('ISO-2-CODE', axis=1,inplace=True)\n",
        "ProcessData.drop('ISO-3-Code', axis=1,inplace=True) # Rename Country and ISO-M49\n",
        "ProcessData.rename(columns={'Country': 'CountryName'}, inplace=True)\n",
        "ProcessData.rename(columns={'ISO-M49': 'CountryNumber'},   inplace=True) # Set new Index\n",
        "ProcessData.set_index('CountryNumber',   inplace=True) # Sort data by CurrencyNumber\n",
        "ProcessData.sort_values('CountryName', axis=0, ascending=False, inplace=True)\n",
        "\n",
        "print('Process Data Values =================================')\n",
        "print(ProcessData)\n",
        "print('=====================================================') # Output Agreement ===========================================\n",
        "OutputData=ProcessData\n",
        "\n",
        "sOutputFileName='HORUS-CSV-Country.csv'\n",
        "OutputData.to_csv(sOutputFileName, index = False)\n",
        "\n",
        "print('CSV to HORUS - Done')\n"
      ]
    }
  ]
}