{
  "nbformat": 4,
  "nbformat_minor": 0,
  "metadata": {
    "colab": {
      "provenance": [],
      "authorship_tag": "ABX9TyMrN1+ROS2nmz1PW/AY7bi/",
      "include_colab_link": true
    },
    "kernelspec": {
      "name": "python3",
      "display_name": "Python 3"
    },
    "language_info": {
      "name": "python"
    }
  },
  "cells": [
    {
      "cell_type": "markdown",
      "metadata": {
        "id": "view-in-github",
        "colab_type": "text"
      },
      "source": [
        "<a href=\"https://colab.research.google.com/github/yashkarkhanis01/Data_Science/blob/main/Averaging_of_Data.ipynb\" target=\"_parent\"><img src=\"https://colab.research.google.com/assets/colab-badge.svg\" alt=\"Open In Colab\"/></a>"
      ]
    },
    {
      "cell_type": "code",
      "execution_count": null,
      "metadata": {
        "colab": {
          "base_uri": "https://localhost:8080/"
        },
        "id": "Gh9__MR0n8sw",
        "outputId": "f6086cf5-28b6-4bbb-a901-8370b67beaa6"
      },
      "outputs": [
        {
          "output_type": "stream",
          "name": "stdout",
          "text": [
            "################################\n",
            "Working Base : VKHCG  using \n",
            "################################\n",
            "Loading : VKHCG/01-Vermeulen/00-RawData/IP_DATA_CORE.csv\n",
            "     Country Place_Name  Latitude\n",
            "0         US   New York   40.7528\n",
            "1         US   New York   40.7528\n",
            "2         US   New York   40.7528\n",
            "3         US   New York   40.7528\n",
            "4         US   New York   40.7528\n",
            "...      ...        ...       ...\n",
            "7119      DE     Munich   48.0915\n",
            "7120      DE     Munich   48.1833\n",
            "7121      DE     Munich   48.1000\n",
            "7122      DE     Munich   48.1480\n",
            "7123      DE     Munich   48.1480\n",
            "\n",
            "[7124 rows x 3 columns]\n",
            "Country  Place_Name\n",
            "DE       Munich        48.143223\n",
            "GB       London        51.509406\n",
            "US       New York      40.747044\n",
            "Name: Latitude, dtype: float64\n"
          ]
        }
      ],
      "source": [
        "import pandas as pd ################################################################\n",
        "InputFileName='IP_DATA_CORE.csv'\n",
        "OutputFileName='Retrieve_Router_Location.csv'\n",
        "Base='VKHCG'\n",
        "print('################################')\n",
        "print('Working Base :',Base, ' using ')\n",
        "print('################################')\n",
        "sFileName=Base + '/01-Vermeulen/00-RawData/' + InputFileName\n",
        "print('Loading :',sFileName)\n",
        "IP_DATA_ALL=pd.read_csv(sFileName,header=0,low_memory=False, usecols=['Country','Place Name','Latitude','Longitude'], encoding=\"latin-1\")\n",
        "IP_DATA_ALL.rename(columns={'Place Name': 'Place_Name'}, inplace=True)\n",
        "AllData=IP_DATA_ALL[['Country', 'Place_Name','Latitude']]\n",
        "print(AllData)\n",
        "MeanData=AllData.groupby(['Country', 'Place_Name'])['Latitude'].mean()\n",
        "print(MeanData)"
      ]
    }
  ]
}