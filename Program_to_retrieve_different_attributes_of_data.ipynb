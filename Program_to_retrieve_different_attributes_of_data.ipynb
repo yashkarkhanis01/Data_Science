{
  "nbformat": 4,
  "nbformat_minor": 0,
  "metadata": {
    "colab": {
      "provenance": [],
      "authorship_tag": "ABX9TyNIHNNnojVUZWfo2yU2pvoq",
      "include_colab_link": true
    },
    "kernelspec": {
      "name": "python3",
      "display_name": "Python 3"
    },
    "language_info": {
      "name": "python"
    }
  },
  "cells": [
    {
      "cell_type": "markdown",
      "metadata": {
        "id": "view-in-github",
        "colab_type": "text"
      },
      "source": [
        "<a href=\"https://colab.research.google.com/github/yashkarkhanis01/Data_Science/blob/main/Program_to_retrieve_different_attributes_of_data.ipynb\" target=\"_parent\"><img src=\"https://colab.research.google.com/assets/colab-badge.svg\" alt=\"Open In Colab\"/></a>"
      ]
    },
    {
      "cell_type": "code",
      "execution_count": null,
      "metadata": {
        "colab": {
          "base_uri": "https://localhost:8080/"
        },
        "id": "J_fU1Td1MrBl",
        "outputId": "b7882a4b-5df4-4db2-9eeb-bb30a6652027"
      },
      "outputs": [
        {
          "output_type": "stream",
          "name": "stdout",
          "text": [
            "Loading : IP_DATA_ALL.csv\n",
            "ID <class 'str'>\n",
            "Country <class 'str'>\n",
            "Place Name <class 'str'>\n",
            "Post Code <class 'str'>\n",
            "Latitude <class 'str'>\n",
            "Longitude <class 'str'>\n",
            "First IP Number <class 'str'>\n",
            "Last IP Number <class 'str'>\n",
            "### Fixed Data Set ###################################\n",
            "ID <class 'str'>\n",
            "Country <class 'str'>\n",
            "Place_Name <class 'str'>\n",
            "Post_Code <class 'str'>\n",
            "Latitude <class 'str'>\n",
            "Longitude <class 'str'>\n",
            "First_IP_Number <class 'str'>\n",
            "Last_IP_Number <class 'str'>\n"
          ]
        }
      ],
      "source": [
        "import sys\n",
        "import os\n",
        "import pandas as pd ################################################################ Base='C:/VKHCG' ################################################################\n",
        "sFileName='IP_DATA_ALL.csv'\n",
        "print('Loading :',sFileName)\n",
        "IP_DATA_ALL=pd.read_csv(sFileName,header=0,low_memory=False, encoding=\"latin-1\") ################################################################\n",
        "sFileDir='02-Python'\n",
        "if not os.path.exists(sFileDir):\n",
        "  os.makedirs(sFileDir)\n",
        "  print('Rows:', IP_DATA_ALL.shape[0])\n",
        "  print('Columns:', IP_DATA_ALL.shape[1])\n",
        "  print('### Raw Data Set #####################################')\n",
        "for i in range(0,len(IP_DATA_ALL.columns)):\n",
        "  print(IP_DATA_ALL.columns[i],type(IP_DATA_ALL.columns[i]))\n",
        "print('### Fixed Data Set ###################################')\n",
        "IP_DATA_ALL_FIX=IP_DATA_ALL\n",
        "for i in range(0,len(IP_DATA_ALL.columns)):\n",
        "  cNameOld=IP_DATA_ALL_FIX.columns[i] + '\t'\n",
        "  cNameNew=cNameOld.strip().replace(\" \", \"_\")\n",
        "  IP_DATA_ALL_FIX.columns.values[i] = cNameNew\n",
        "  print(IP_DATA_ALL.columns[i],type(IP_DATA_ALL.columns[i]))\n",
        "\n",
        "\n"
      ]
    }
  ]
}